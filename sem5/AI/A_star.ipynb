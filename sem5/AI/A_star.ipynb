{
 "cells": [
  {
   "cell_type": "code",
   "execution_count": 1,
   "id": "4b54c12c",
   "metadata": {},
   "outputs": [],
   "source": [
    "graph = {\n",
    "    \"Arad\": {\"Zerind\": 75, \"Sibiu\": 140, \"Timisoara\": 118},\n",
    "    \"Zerind\": {\"Oradea\": 71, \"Arad\": 75},\n",
    "    \"Oradea\": {\"Zerind\": 71, \"Sibiu\": 151},\n",
    "    \"Sibiu\": {\"Arad\": 140, \"Oradea\": 151, \"Fagaras\": 99, \"Rimnicu Vilcea\": 80},\n",
    "    \"Timisoara\": {\"Arad\": 118, \"Lugoj\": 111},\n",
    "    \"Lugoj\": {\"Timisoara\": 111, \"Mehadia\": 70},\n",
    "    \"Mehadia\": {\"Lugoj\": 70, \"Drobeta\": 75},\n",
    "    \"Drobeta\": {\"Mehadia\": 75, \"Craiova\": 120},\n",
    "    \"Craiova\": {\"Drobeta\": 120, \"Rimnicu Vilcea\": 146, \"Pitesti\": 138},\n",
    "    \"Rimnicu Vilcea\": {\"Sibiu\": 80, \"Craiova\": 146, \"Pitesti\": 97},\n",
    "    \"Fagaras\": {\"Sibiu\": 99, \"Bucharest\": 211},\n",
    "    \"Pitesti\": {\"Rimnicu Vilcea\": 97, \"Craiova\": 138, \"Bucharest\": 101},\n",
    "    \"Bucharest\": {\"Fagaras\": 211, \"Pitesti\": 101},\n",
    "}\n",
    "heuristic = {\n",
    "    \"Arad\": 366,\n",
    "    \"Zerind\": 374,\n",
    "    \"Oradea\": 380,\n",
    "    \"Sibiu\": 253,\n",
    "    \"Timisoara\": 329,\n",
    "    \"Lugoj\": 244,\n",
    "    \"Mehadia\": 241,\n",
    "    \"Drobeta\": 242,\n",
    "    \"Craiova\": 160,\n",
    "    \"Rimnicu Vilcea\": 193,\n",
    "    \"Fagaras\": 178,\n",
    "    \"Pitesti\": 98,\n",
    "    \"Bucharest\": 0,\n",
    "}"
   ]
  },
  {
   "cell_type": "code",
   "execution_count": 2,
   "id": "00bfdca4",
   "metadata": {},
   "outputs": [],
   "source": [
    "from queue import PriorityQueue"
   ]
  },
  {
   "cell_type": "code",
   "execution_count": 3,
   "id": "b1fa481a",
   "metadata": {},
   "outputs": [],
   "source": [
    "def a_star_search(graph, start, goal, heuristic):\n",
    "    frontier = PriorityQueue()\n",
    "    frontier.put((0, start))\n",
    "    came_from = {}\n",
    "    cost_so_far = {}\n",
    "    came_from[start] = None\n",
    "    cost_so_far[start] = 0\n",
    "\n",
    "    while not frontier.empty():\n",
    "        current = frontier.get()[1]\n",
    "\n",
    "        if current == goal:\n",
    "            path = []\n",
    "            while current is not None:\n",
    "                path.append(current)\n",
    "                current = came_from[current]\n",
    "            path.reverse()\n",
    "            return path\n",
    "\n",
    "        for neighbor in graph[current]:\n",
    "            new_cost = cost_so_far[current] + graph[current][neighbor]\n",
    "            if neighbor not in cost_so_far or new_cost < cost_so_far[neighbor]:\n",
    "                cost_so_far[neighbor] = new_cost\n",
    "                priority = new_cost + heuristic[neighbor]\n",
    "                frontier.put((priority, neighbor))\n",
    "                came_from[neighbor] = current\n",
    "\n",
    "    return None"
   ]
  },
  {
   "cell_type": "code",
   "execution_count": 4,
   "id": "1991e99d",
   "metadata": {},
   "outputs": [
    {
     "name": "stdout",
     "output_type": "stream",
     "text": [
      "Shortest path from Arad to Craiova : Arad → Sibiu → Rimnicu Vilcea → Craiova\n"
     ]
    }
   ],
   "source": [
    "start = \"Arad\"\n",
    "goal = \"Craiova\"\n",
    "\n",
    "path = a_star_search(graph, start, goal, heuristic)\n",
    "\n",
    "if path:\n",
    "    print(\"Shortest path from\", start, \"to\", goal, \":\", \" → \".join(path))\n",
    "else:\n",
    "    print(\"No path found from\", start, \"to\", goal)"
   ]
  }
 ],
 "metadata": {
  "kernelspec": {
   "display_name": "Python 3",
   "language": "python",
   "name": "python3"
  },
  "language_info": {
   "codemirror_mode": {
    "name": "ipython",
    "version": 3
   },
   "file_extension": ".py",
   "mimetype": "text/x-python",
   "name": "python",
   "nbconvert_exporter": "python",
   "pygments_lexer": "ipython3",
   "version": "3.12.6"
  }
 },
 "nbformat": 4,
 "nbformat_minor": 5
}
