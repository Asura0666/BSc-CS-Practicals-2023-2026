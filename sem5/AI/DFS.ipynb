{
 "cells": [
  {
   "cell_type": "code",
   "execution_count": 5,
   "id": "dd89c0bc",
   "metadata": {},
   "outputs": [],
   "source": [
    "graph = {\n",
    "    \"CST\": {\"Byculla\", \"Masjid\"},\n",
    "    \"Byculla\": {\"CST\", \"Dadar\"},\n",
    "    \"Masjid\": {\"CST\", \"Sandhurst Road\"},\n",
    "    \"Dadar\": {\"Byculla\", \"Kurla\", \"Matunga\"},\n",
    "    \"Kurla\": {\"Dadar\", \"Ghatkopar\", \"Chembur\"},\n",
    "    \"Ghatkopar\": {\"Kurla\", \"Vikhroli\"},\n",
    "    \"Chembur\": {\"Kurla\", \"Govandi\"},\n",
    "    \"Vikhroli\": {\"Ghatkopar\", \"Kanjurmarg\"},\n",
    "    \"Govandi\": {\"Chembur\", \"Mankhurd\"},\n",
    "}"
   ]
  },
  {
   "cell_type": "code",
   "execution_count": 6,
   "id": "783c9f6e",
   "metadata": {},
   "outputs": [],
   "source": [
    "def dfs_search(graph, start, goal):\n",
    "    stack = [start]\n",
    "    visited = {}\n",
    "    came_from = {}\n",
    "    visited[start] = True\n",
    "    came_from[start] = None\n",
    "\n",
    "    while stack:\n",
    "        current = stack.pop()\n",
    "\n",
    "        if current == goal:\n",
    "            path = []\n",
    "            while current is not None:\n",
    "                path.append(current)\n",
    "                current = came_from[current]\n",
    "            path.reverse()\n",
    "            return path\n",
    "\n",
    "        for neighbor in graph[current]:\n",
    "            if neighbor not in visited:\n",
    "                visited[neighbor] = True\n",
    "                came_from[neighbor] = current\n",
    "                stack.append(neighbor)\n",
    "\n",
    "    return None"
   ]
  },
  {
   "cell_type": "code",
   "execution_count": 7,
   "id": "335433f5",
   "metadata": {},
   "outputs": [
    {
     "name": "stdout",
     "output_type": "stream",
     "text": [
      "Path from CST to Kanjurmarg : ['CST', 'Byculla', 'Dadar', 'Kurla', 'Ghatkopar', 'Vikhroli', 'Kanjurmarg']\n"
     ]
    }
   ],
   "source": [
    "start = \"CST\"\n",
    "goal = \"Kanjurmarg\"\n",
    "path = dfs_search(graph, start, goal)\n",
    "\n",
    "if path:\n",
    "    print(\"Path from\", start, \"to\", goal, \":\", path)\n",
    "else:\n",
    "    print(\"No path found from\", start, \"to\", goal)"
   ]
  },
  {
   "cell_type": "code",
   "execution_count": null,
   "id": "cdd6f6cf",
   "metadata": {},
   "outputs": [],
   "source": []
  }
 ],
 "metadata": {
  "kernelspec": {
   "display_name": "Python 3",
   "language": "python",
   "name": "python3"
  },
  "language_info": {
   "codemirror_mode": {
    "name": "ipython",
    "version": 3
   },
   "file_extension": ".py",
   "mimetype": "text/x-python",
   "name": "python",
   "nbconvert_exporter": "python",
   "pygments_lexer": "ipython3",
   "version": "3.12.6"
  }
 },
 "nbformat": 4,
 "nbformat_minor": 5
}
