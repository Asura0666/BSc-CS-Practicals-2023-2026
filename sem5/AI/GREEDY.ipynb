{
 "cells": [
  {
   "cell_type": "code",
   "execution_count": 1,
   "id": "936034d4",
   "metadata": {},
   "outputs": [],
   "source": [
    "roadmap_as_graph = {\n",
    "    \"Arad\": [\"Zerind\", \"Timisoara\", \"Sibiu\"],\n",
    "    \"Zerind\": [\"Oradea\", \"Arad\"],\n",
    "    \"Timisoara\": [\"Arad\", \"Lugoj\"],\n",
    "    \"Sibiu\": [\"Arad\", \"Oradea\", \"Fagaras\", \"Rimnicu Vilcea\"],\n",
    "    \"Oradea\": [\"Sibiu\", \"Zerind\"],\n",
    "    \"Lugoj\": [\"Timisoara\", \"Mehadia\"],\n",
    "    \"Fagaras\": [\"Sibiu\", \"Bucharest\"],\n",
    "    \"Rimnicu Vilcea\": [\"Sibiu\", \"Pitesti\", \"Craiova\"],\n",
    "    \"Mehadia\": [\"Lugoj\", \"Dobreta\"],\n",
    "    \"Dobreta\": [\"Mehadia\", \"Craiova\"],\n",
    "    \"Craiova\": [\"Dobreta\", \"Rimnicu Vilcea\", \"Pitesti\"],\n",
    "    \"Pitesti\": [\"Rimnicu Vilcea\", \"Craiova\", \"Bucharest\"],\n",
    "    \"Bucharest\": [\"Fagaras\", \"Pitesti\", \"Giurgiu\", \"Urziceni\"],\n",
    "    \"Giurgiu\": [\"Bucharest\"],\n",
    "    \"Urziceni\": [\"Bucharest\", \"Hirsova\", \"Vaslui\"],\n",
    "    \"Hirsova\": [\"Urziceni\", \"Eforie\"],\n",
    "    \"Vaslui\": [\"Iasi\", \"Urziceni\"],\n",
    "    \"Iasi\": [\"Vaslui\", \"Neamt\"],\n",
    "    \"Neamt\": [\"Iasi\"],\n",
    "    \"Eforie\": [],\n",
    "}\n",
    "heuristic_values = {\n",
    "    \"Arad\": 366,\n",
    "    \"Zerind\": 374,\n",
    "    \"Timisoara\": 329,\n",
    "    \"Sibiu\": 253,\n",
    "    \"Oradea\": 380,\n",
    "    \"Lugoj\": 244,\n",
    "    \"Fagaras\": 176,\n",
    "    \"Rimnicu Vilcea\": 193,\n",
    "    \"Mehadia\": 241,\n",
    "    \"Dobreta\": 242,\n",
    "    \"Craiova\": 160,\n",
    "    \"Pitesti\": 98,\n",
    "    \"Bucharest\": 0,\n",
    "    \"Giurgiu\": 77,\n",
    "    \"Eforie\": 161,\n",
    "    \"Hirsova\": 151,\n",
    "    \"Iasi\": 226,\n",
    "    \"Neamt\": 234,\n",
    "    \"Urziceni\": 80,\n",
    "    \"Vaslui\": 199,\n",
    "}"
   ]
  },
  {
   "cell_type": "code",
   "execution_count": 2,
   "id": "9391e6a6",
   "metadata": {},
   "outputs": [],
   "source": [
    "import heapq"
   ]
  },
  {
   "cell_type": "code",
   "execution_count": 3,
   "id": "65ed750f",
   "metadata": {},
   "outputs": [],
   "source": [
    "def GreedyBestFirstSearch(graph, heuristics, start, target):\n",
    "    visited = set()\n",
    "    queue = []\n",
    "    heapq.heappush(queue, (heuristics[start], [start]))\n",
    "\n",
    "    while queue:\n",
    "        _, path = heapq.heappop(queue)\n",
    "        current = path[-1]\n",
    "\n",
    "        if current == target:\n",
    "            return path\n",
    "\n",
    "        if current in visited:\n",
    "            continue\n",
    "        visited.add(current)\n",
    "\n",
    "        for neighbor in graph[current]:\n",
    "            if neighbor not in visited:\n",
    "                new_path = path + [neighbor]\n",
    "                heapq.heappush(queue, (heuristics[neighbor], new_path))\n",
    "\n",
    "    return None"
   ]
  },
  {
   "cell_type": "code",
   "execution_count": 4,
   "id": "fe0e9db5",
   "metadata": {},
   "outputs": [
    {
     "name": "stdout",
     "output_type": "stream",
     "text": [
      "Greedy Best-First Path: Arad → Sibiu → Fagaras → Bucharest → Urziceni → Vaslui\n"
     ]
    }
   ],
   "source": [
    "result = GreedyBestFirstSearch(roadmap_as_graph, heuristic_values, \"Arad\", \"Vaslui\")\n",
    "\n",
    "if result:\n",
    "    print(\"Greedy Best-First Path:\", \" → \".join(result))\n",
    "else:\n",
    "    print(\"No path found.\")"
   ]
  }
 ],
 "metadata": {
  "kernelspec": {
   "display_name": "Python 3",
   "language": "python",
   "name": "python3"
  },
  "language_info": {
   "codemirror_mode": {
    "name": "ipython",
    "version": 3
   },
   "file_extension": ".py",
   "mimetype": "text/x-python",
   "name": "python",
   "nbconvert_exporter": "python",
   "pygments_lexer": "ipython3",
   "version": "3.12.6"
  }
 },
 "nbformat": 4,
 "nbformat_minor": 5
}
