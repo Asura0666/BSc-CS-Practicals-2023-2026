{
 "cells": [
  {
   "cell_type": "code",
   "execution_count": 10,
   "id": "936034d4",
   "metadata": {},
   "outputs": [],
   "source": [
    "roadmap_as_graph = {\n",
    "    \"CST\": [\"Masjid\", \"Byculla\"],\n",
    "    \"Masjid\": [\"CST\", \"Sandhurst Road\"],\n",
    "    \"Sandhurst Road\": [\"Masjid\", \"Byculla\"],\n",
    "    \"Byculla\": [\"CST\", \"Sandhurst Road\", \"Dadar\"],\n",
    "    \"Dadar\": [\"Byculla\", \"Matunga\", \"Kurla\"],\n",
    "    \"Matunga\": [\"Dadar\", \"Sion\"],\n",
    "    \"Sion\": [\"Matunga\", \"Kurla\"],\n",
    "    \"Kurla\": [\"Sion\", \"Dadar\", \"Ghatkopar\", \"Chembur\"],\n",
    "    \"Chembur\": [\"Kurla\", \"Govandi\"],\n",
    "    \"Govandi\": [\"Chembur\", \"Mankhurd\"],\n",
    "    \"Mankhurd\": [\"Govandi\"],\n",
    "    \"Ghatkopar\": [\"Kurla\", \"Vikhroli\"],\n",
    "    \"Vikhroli\": [\"Ghatkopar\", \"Kanjurmarg\"],\n",
    "    \"Kanjurmarg\": [\"Vikhroli\", \"Bhandup\"],\n",
    "    \"Bhandup\": [\"Kanjurmarg\", \"Nahur\"],\n",
    "    \"Nahur\": [\"Bhandup\", \"Mulund\"],\n",
    "    \"Mulund\": [\"Nahur\", \"Thane\"],\n",
    "    \"Thane\": [\"Mulund\"],\n",
    "}\n",
    "\n",
    "heuristic_values = {\n",
    "    \"CST\": 0,\n",
    "    \"Masjid\": 1,\n",
    "    \"Sandhurst Road\": 2,\n",
    "    \"Byculla\": 4,\n",
    "    \"Dadar\": 8,\n",
    "    \"Matunga\": 10,\n",
    "    \"Sion\": 12,\n",
    "    \"Kurla\": 14,\n",
    "    \"Chembur\": 18,\n",
    "    \"Govandi\": 21,\n",
    "    \"Mankhurd\": 23,\n",
    "    \"Ghatkopar\": 17,\n",
    "    \"Vikhroli\": 20,\n",
    "    \"Kanjurmarg\": 22,\n",
    "    \"Bhandup\": 24,\n",
    "    \"Nahur\": 26,\n",
    "    \"Mulund\": 28,\n",
    "    \"Thane\": 32,\n",
    "}"
   ]
  },
  {
   "cell_type": "code",
   "execution_count": 11,
   "id": "9391e6a6",
   "metadata": {},
   "outputs": [],
   "source": [
    "import heapq"
   ]
  },
  {
   "cell_type": "code",
   "execution_count": 12,
   "id": "65ed750f",
   "metadata": {},
   "outputs": [],
   "source": [
    "def GreedyBestFirstSearch(graph, heuristics, start, target):\n",
    "    visited = set()\n",
    "    queue = []\n",
    "    heapq.heappush(queue, (heuristics[start], [start]))\n",
    "\n",
    "    while queue:\n",
    "        _, path = heapq.heappop(queue)\n",
    "        current = path[-1]\n",
    "\n",
    "        if current == target:\n",
    "            return path\n",
    "\n",
    "        if current in visited:\n",
    "            continue\n",
    "        visited.add(current)\n",
    "\n",
    "        for neighbor in graph[current]:\n",
    "            if neighbor not in visited:\n",
    "                new_path = path + [neighbor]\n",
    "                heapq.heappush(queue, (heuristics[neighbor], new_path))\n",
    "\n",
    "    return None"
   ]
  },
  {
   "cell_type": "code",
   "execution_count": 13,
   "id": "fe0e9db5",
   "metadata": {},
   "outputs": [
    {
     "name": "stdout",
     "output_type": "stream",
     "text": [
      "Greedy Best-First Path: CST → Byculla → Dadar → Kurla → Ghatkopar → Vikhroli → Kanjurmarg → Bhandup → Nahur\n"
     ]
    }
   ],
   "source": [
    "result = GreedyBestFirstSearch(roadmap_as_graph, heuristic_values, \"CST\", \"Nahur\")\n",
    "\n",
    "if result:\n",
    "    print(\"Greedy Best-First Path:\", \" → \".join(result))\n",
    "else:\n",
    "    print(\"No path found.\")"
   ]
  }
 ],
 "metadata": {
  "kernelspec": {
   "display_name": "Python 3",
   "language": "python",
   "name": "python3"
  },
  "language_info": {
   "codemirror_mode": {
    "name": "ipython",
    "version": 3
   },
   "file_extension": ".py",
   "mimetype": "text/x-python",
   "name": "python",
   "nbconvert_exporter": "python",
   "pygments_lexer": "ipython3",
   "version": "3.12.6"
  }
 },
 "nbformat": 4,
 "nbformat_minor": 5
}
