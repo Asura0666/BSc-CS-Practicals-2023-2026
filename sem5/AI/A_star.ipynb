{
 "cells": [
  {
   "cell_type": "code",
   "execution_count": null,
   "id": "4b54c12c",
   "metadata": {},
   "outputs": [],
   "source": [
    "graph = {\n",
    "    \"CST\": {\"Masjid\": 1, \"Byculla\": 2},\n",
    "    \"Masjid\": {\"CST\": 1, \"Sandhurst Road\": 1},\n",
    "    \"Sandhurst Road\": {\"Masjid\": 1, \"Byculla\": 1},\n",
    "    \"Byculla\": {\"CST\": 2, \"Sandhurst Road\": 1, \"Dadar\": 4},\n",
    "    \"Dadar\": {\"Byculla\": 4, \"Matunga\": 2, \"Kurla\": 6},\n",
    "    \"Matunga\": {\"Dadar\": 2, \"Sion\": 2},\n",
    "    \"Sion\": {\"Matunga\": 2, \"Kurla\": 2},\n",
    "    \"Kurla\": {\"Sion\": 2, \"Dadar\": 6, \"Ghatkopar\": 3, \"Chembur\": 4},\n",
    "    \"Chembur\": {\"Kurla\": 4, \"Govandi\": 3},\n",
    "    \"Govandi\": {\"Chembur\": 3, \"Mankhurd\": 2},\n",
    "    \"Mankhurd\": {\"Govandi\": 2},\n",
    "    \"Ghatkopar\": {\"Kurla\": 3, \"Vikhroli\": 3},\n",
    "    \"Vikhroli\": {\"Ghatkopar\": 3, \"Kanjurmarg\": 2},\n",
    "    \"Kanjurmarg\": {\"Vikhroli\": 2, \"Bhandup\": 2},\n",
    "    \"Bhandup\": {\"Kanjurmarg\": 2, \"Nahur\": 2},\n",
    "    \"Nahur\": {\"Bhandup\": 2, \"Mulund\": 2},\n",
    "    \"Mulund\": {\"Nahur\": 2, \"Thane\": 4},\n",
    "    \"Thane\": {\"Mulund\": 4},\n",
    "}\n",
    "\n",
    "heuristic = {\n",
    "    \"CST\": 0,\n",
    "    \"Masjid\": 1,\n",
    "    \"Sandhurst Road\": 2,\n",
    "    \"Byculla\": 4,\n",
    "    \"Dadar\": 8,\n",
    "    \"Matunga\": 10,\n",
    "    \"Sion\": 12,\n",
    "    \"Kurla\": 14,\n",
    "    \"Chembur\": 18,\n",
    "    \"Govandi\": 21,\n",
    "    \"Mankhurd\": 23,\n",
    "    \"Ghatkopar\": 17,\n",
    "    \"Vikhroli\": 20,\n",
    "    \"Kanjurmarg\": 22,\n",
    "    \"Bhandup\": 24,\n",
    "    \"Nahur\": 26,\n",
    "    \"Mulund\": 28,\n",
    "    \"Thane\": 32,\n",
    "}"
   ]
  },
  {
   "cell_type": "code",
   "execution_count": 2,
   "id": "00bfdca4",
   "metadata": {},
   "outputs": [],
   "source": [
    "from queue import PriorityQueue"
   ]
  },
  {
   "cell_type": "code",
   "execution_count": 3,
   "id": "b1fa481a",
   "metadata": {},
   "outputs": [],
   "source": [
    "def a_star_search(graph, start, goal, heuristic):\n",
    "    frontier = PriorityQueue()\n",
    "    frontier.put((0, start))\n",
    "    came_from = {}\n",
    "    cost_so_far = {}\n",
    "    came_from[start] = None\n",
    "    cost_so_far[start] = 0\n",
    "\n",
    "    while not frontier.empty():\n",
    "        current = frontier.get()[1]\n",
    "\n",
    "        if current == goal:\n",
    "            path = []\n",
    "            while current is not None:\n",
    "                path.append(current)\n",
    "                current = came_from[current]\n",
    "            path.reverse()\n",
    "            return path\n",
    "\n",
    "        for neighbor in graph[current]:\n",
    "            new_cost = cost_so_far[current] + graph[current][neighbor]\n",
    "            if neighbor not in cost_so_far or new_cost < cost_so_far[neighbor]:\n",
    "                cost_so_far[neighbor] = new_cost\n",
    "                priority = new_cost + heuristic[neighbor]\n",
    "                frontier.put((priority, neighbor))\n",
    "                came_from[neighbor] = current\n",
    "\n",
    "    return None"
   ]
  },
  {
   "cell_type": "code",
   "execution_count": 4,
   "id": "1991e99d",
   "metadata": {},
   "outputs": [
    {
     "name": "stdout",
     "output_type": "stream",
     "text": [
      "Shortest path from CST to Bhandup : CST → Byculla → Dadar → Kurla → Ghatkopar → Vikhroli → Kanjurmarg → Bhandup\n"
     ]
    }
   ],
   "source": [
    "start = \"CST\"\n",
    "goal = \"Bhandup\"\n",
    "\n",
    "path = a_star_search(graph, start, goal, heuristic)\n",
    "\n",
    "if path:\n",
    "    print(\"Shortest path from\", start, \"to\", goal, \":\", \" → \".join(path))\n",
    "else:\n",
    "    print(\"No path found from\", start, \"to\", goal)"
   ]
  }
 ],
 "metadata": {
  "kernelspec": {
   "display_name": "Python 3",
   "language": "python",
   "name": "python3"
  },
  "language_info": {
   "codemirror_mode": {
    "name": "ipython",
    "version": 3
   },
   "file_extension": ".py",
   "mimetype": "text/x-python",
   "name": "python",
   "nbconvert_exporter": "python",
   "pygments_lexer": "ipython3",
   "version": "3.12.6"
  }
 },
 "nbformat": 4,
 "nbformat_minor": 5
}
