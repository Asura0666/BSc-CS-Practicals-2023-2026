{
 "cells": [
  {
   "cell_type": "code",
   "execution_count": 12,
   "id": "f519a7ea",
   "metadata": {},
   "outputs": [],
   "source": [
    "graph = {\n",
    "    \"Arad\": {\"Zerind\", \"Sibiu\", \"Timisoara\"},\n",
    "    \"Zerind\": {\"Oradea\", \"Arad\"},\n",
    "    \"Oradea\": {\"Zerind\", \"Sibiu\"},\n",
    "    \"Sibiu\": {\"Arad\", \"Oradea\", \"Fagaras\", \"Rimnicu Vilcea\"},\n",
    "    \"Timisoara\": {\"Arad\", \"Lugoj\"},\n",
    "    \"Lugoj\": {\"Timisoara\", \"Mehadia\"},\n",
    "    \"Mehadia\": {\"Lugoj\", \"Drobeta\"},\n",
    "    \"Drobeta\": {\"Mehadia\", \"Craiova\"},\n",
    "    \"Craiova\": {\"Drobeta\", \"Rimnicu Vilcea\", \"Pitesti\"},\n",
    "    \"Rimnicu Vilcea\": {\"Sibiu\", \"Craiova\", \"Pitesti\"},\n",
    "    \"Fagaras\": {\"Sibiu\", \"Bucharest\"},\n",
    "    \"Pitesti\": {\"Rimnicu Vilcea\", \"Craiova\", \"Bucharest\"},\n",
    "    \"Bucharest\": {\"Fagaras\", \"Pitesti\"},\n",
    "}"
   ]
  },
  {
   "cell_type": "code",
   "execution_count": 13,
   "id": "3b914571",
   "metadata": {},
   "outputs": [],
   "source": [
    "from queue import Queue"
   ]
  },
  {
   "cell_type": "code",
   "execution_count": 14,
   "id": "ada063a3",
   "metadata": {},
   "outputs": [],
   "source": [
    "def bfs_search(graph, start, goal):\n",
    "    frontier = Queue()\n",
    "    frontier.put(start)\n",
    "    visited = {}\n",
    "    came_from = {}\n",
    "    visited[start] = True\n",
    "    came_from[start] = None\n",
    "\n",
    "    while not frontier.empty():\n",
    "        current = frontier.get()\n",
    "\n",
    "        if current == goal:\n",
    "            path = []\n",
    "            while current is not None:\n",
    "                path.append(current)\n",
    "                current = came_from[current]\n",
    "            path.reverse()\n",
    "            return path\n",
    "\n",
    "        for neighbor in graph.get(current, []):\n",
    "            if neighbor not in visited:\n",
    "                visited[neighbor] = True\n",
    "                came_from[neighbor] = current\n",
    "                frontier.put(neighbor)\n",
    "\n",
    "    return None"
   ]
  },
  {
   "cell_type": "code",
   "execution_count": 15,
   "id": "536bafa5",
   "metadata": {},
   "outputs": [
    {
     "name": "stdout",
     "output_type": "stream",
     "text": [
      "No path found from Arad to Hirsova\n"
     ]
    }
   ],
   "source": [
    "start = \"Arad\"\n",
    "goal = \"Hirsova\"  # Pitesti  # Not in graph\n",
    "\n",
    "path = bfs_search(graph, start, goal)\n",
    "\n",
    "if path:\n",
    "    print(\"Shortest path from\", start, \"to\", goal, \":\", path)\n",
    "else:\n",
    "    print(\"No path found from\", start, \"to\", goal)"
   ]
  },
  {
   "cell_type": "code",
   "execution_count": null,
   "id": "775a0924",
   "metadata": {},
   "outputs": [],
   "source": []
  }
 ],
 "metadata": {
  "kernelspec": {
   "display_name": "Python 3",
   "language": "python",
   "name": "python3"
  },
  "language_info": {
   "codemirror_mode": {
    "name": "ipython",
    "version": 3
   },
   "file_extension": ".py",
   "mimetype": "text/x-python",
   "name": "python",
   "nbconvert_exporter": "python",
   "pygments_lexer": "ipython3",
   "version": "3.12.6"
  }
 },
 "nbformat": 4,
 "nbformat_minor": 5
}
