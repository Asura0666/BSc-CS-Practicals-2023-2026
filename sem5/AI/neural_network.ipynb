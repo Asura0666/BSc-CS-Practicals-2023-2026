{
 "cells": [
  {
   "cell_type": "code",
   "execution_count": 2,
   "id": "62f93118",
   "metadata": {},
   "outputs": [],
   "source": [
    "import numpy as np"
   ]
  },
  {
   "cell_type": "code",
   "execution_count": 3,
   "id": "8ddcfd9f",
   "metadata": {},
   "outputs": [],
   "source": [
    "class SimpleNeuralNetwork:\n",
    "    def __init__(self, input_size):\n",
    "        self.W = np.random.randn(input_size) * 0.01\n",
    "        self.b = np.zeros(1)\n",
    "\n",
    "    def sigmoid(self, z):\n",
    "        return 1 / (1 + np.exp(-z))\n",
    "\n",
    "    def forward(self, X):\n",
    "        z = np.dot(X, self.W) + self.b\n",
    "        y_hat = self.sigmoid(z)\n",
    "        return y_hat"
   ]
  },
  {
   "cell_type": "code",
   "execution_count": 4,
   "id": "3fde09a0",
   "metadata": {},
   "outputs": [
    {
     "name": "stdout",
     "output_type": "stream",
     "text": [
      "Sample Inputs (X):\n",
      "[[ 0.49671415 -0.1382643 ]\n",
      " [ 0.64768854  1.52302986]\n",
      " [-0.23415337 -0.23413696]\n",
      " [ 1.57921282  0.76743473]\n",
      " [-0.46947439  0.54256004]]\n",
      "\n",
      "Corresponding True Labels (y):\n",
      "[0 1 0 1 0]\n",
      "\n",
      "Predictions (y_hat) from the untrained model:\n",
      "[0.50025045 0.50271454 0.49946231 0.50248845 0.50034072]\n"
     ]
    }
   ],
   "source": [
    "if __name__ == '__main__':\n",
    "    np.random.seed(42)\n",
    "    num_samples = 100\n",
    "    X = np.random.randn(num_samples, 2)\n",
    "    y = (2 * X[:, 0] + X[:, 1] - 1 > 0).astype(int)\n",
    "    nn = SimpleNeuralNetwork(input_size=2)\n",
    "    predictions = nn.forward(X)\n",
    "    print(\"Sample Inputs (X):\")\n",
    "    print(X[:5])\n",
    "    print(\"\\nCorresponding True Labels (y):\")\n",
    "    print(y[:5])\n",
    "    print(\"\\nPredictions (y_hat) from the untrained model:\")\n",
    "    print(predictions[:5])\n"
   ]
  },
  {
   "cell_type": "code",
   "execution_count": null,
   "id": "68d5ca47",
   "metadata": {},
   "outputs": [],
   "source": []
  }
 ],
 "metadata": {
  "kernelspec": {
   "display_name": "Python 3",
   "language": "python",
   "name": "python3"
  },
  "language_info": {
   "codemirror_mode": {
    "name": "ipython",
    "version": 3
   },
   "file_extension": ".py",
   "mimetype": "text/x-python",
   "name": "python",
   "nbconvert_exporter": "python",
   "pygments_lexer": "ipython3",
   "version": "3.12.6"
  }
 },
 "nbformat": 4,
 "nbformat_minor": 5
}
