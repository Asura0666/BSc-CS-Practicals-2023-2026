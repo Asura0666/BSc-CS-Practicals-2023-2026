{
 "cells": [
  {
   "cell_type": "code",
   "execution_count": 1,
   "id": "dd89c0bc",
   "metadata": {},
   "outputs": [],
   "source": [
    "graph = {\n",
    "    \"Arad\": {\"Zerind\", \"Sibiu\", \"Timisoara\"},\n",
    "    \"Zerind\": {\"Oradea\", \"Arad\"},\n",
    "    \"Oradea\": {\"Zerind\", \"Sibiu\"},\n",
    "    \"Sibiu\": {\"Arad\", \"Oradea\", \"Fagaras\", \"Rimnicu Vilcea\"},\n",
    "    \"Timisoara\": {\"Arad\", \"Lugoj\"},\n",
    "    \"Lugoj\": {\"Timisoara\", \"Mehadia\"},\n",
    "    \"Mehadia\": {\"Lugoj\", \"Drobeta\"},\n",
    "    \"Drobeta\": {\"Mehadia\", \"Craiova\"},\n",
    "    \"Craiova\": {\"Drobeta\", \"Rimnicu Vilcea\", \"Pitesti\"},\n",
    "    \"Rimnicu Vilcea\": {\"Sibiu\", \"Craiova\", \"Pitesti\"},\n",
    "    \"Fagaras\": {\"Sibiu\", \"Bucharest\"},\n",
    "    \"Pitesti\": {\"Rimnicu Vilcea\", \"Craiova\", \"Bucharest\"},\n",
    "    \"Bucharest\": {\"Fagaras\", \"Pitesti\"},\n",
    "}"
   ]
  },
  {
   "cell_type": "code",
   "execution_count": 2,
   "id": "783c9f6e",
   "metadata": {},
   "outputs": [],
   "source": [
    "def dfs_search(graph, start, goal):\n",
    "    stack = [start]\n",
    "    visited = {}\n",
    "    came_from = {}\n",
    "    visited[start] = True\n",
    "    came_from[start] = None\n",
    "\n",
    "    while stack:\n",
    "        current = stack.pop()\n",
    "\n",
    "        if current == goal:\n",
    "            path = []\n",
    "            while current is not None:\n",
    "                path.append(current)\n",
    "                current = came_from[current]\n",
    "            path.reverse()\n",
    "            return path\n",
    "\n",
    "        for neighbor in graph[current]:\n",
    "            if neighbor not in visited:\n",
    "                visited[neighbor] = True\n",
    "                came_from[neighbor] = current\n",
    "                stack.append(neighbor)\n",
    "\n",
    "    return None"
   ]
  },
  {
   "cell_type": "code",
   "execution_count": 3,
   "id": "335433f5",
   "metadata": {},
   "outputs": [
    {
     "name": "stdout",
     "output_type": "stream",
     "text": [
      "Path from Arad to Bucharest : ['Arad', 'Sibiu', 'Rimnicu Vilcea', 'Pitesti', 'Bucharest']\n"
     ]
    }
   ],
   "source": [
    "start = \"Arad\"\n",
    "goal = \"Bucharest\"\n",
    "path = dfs_search(graph, start, goal)\n",
    "\n",
    "if path:\n",
    "    print(\"Path from\", start, \"to\", goal, \":\", path)\n",
    "else:\n",
    "    print(\"No path found from\", start, \"to\", goal)"
   ]
  }
 ],
 "metadata": {
  "kernelspec": {
   "display_name": "Python 3",
   "language": "python",
   "name": "python3"
  },
  "language_info": {
   "codemirror_mode": {
    "name": "ipython",
    "version": 3
   },
   "file_extension": ".py",
   "mimetype": "text/x-python",
   "name": "python",
   "nbconvert_exporter": "python",
   "pygments_lexer": "ipython3",
   "version": "3.12.6"
  }
 },
 "nbformat": 4,
 "nbformat_minor": 5
}
