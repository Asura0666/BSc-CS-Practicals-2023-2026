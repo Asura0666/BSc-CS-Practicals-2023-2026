{
 "cells": [
  {
   "cell_type": "code",
   "execution_count": 10,
   "id": "92a0d0ec",
   "metadata": {},
   "outputs": [],
   "source": [
    "import pandas as pd\n",
    "from mlxtend.preprocessing import TransactionEncoder\n",
    "from mlxtend.frequent_patterns import apriori, association_rules"
   ]
  },
  {
   "cell_type": "code",
   "execution_count": null,
   "id": "9dd0f8e1",
   "metadata": {},
   "outputs": [
    {
     "name": "stdout",
     "output_type": "stream",
     "text": [
      "Frequent Itemsets:\n",
      "     support         itemsets\n",
      "0  0.655172          (bread)\n",
      "1  0.620690         (butter)\n",
      "2  0.413793           (eggs)\n",
      "3  0.482759            (jam)\n",
      "4  0.500000           (milk)\n",
      "5  0.396552  (bread, butter)\n",
      "6  0.362069     (bread, jam)\n",
      "7  0.344828    (bread, milk)\n",
      "8  0.344828    (jam, butter)\n",
      "9  0.327586   (milk, butter)\n",
      "\n",
      "Strong Association Rules:\n",
      "  antecedents consequents   support  confidence      lift\n",
      "4       (jam)    (butter)  0.344828    0.714286  1.150794\n",
      "2       (jam)     (bread)  0.362069    0.750000  1.144737\n",
      "\n",
      "All association rules (before filtering):\n",
      "  antecedents consequents   support  confidence      lift\n",
      "0     (bread)    (butter)  0.396552    0.605263  0.975146\n",
      "1    (butter)     (bread)  0.396552    0.638889  0.975146\n",
      "2       (jam)     (bread)  0.362069    0.750000  1.144737\n",
      "3      (milk)     (bread)  0.344828    0.689655  1.052632\n",
      "4       (jam)    (butter)  0.344828    0.714286  1.150794\n",
      "5      (milk)    (butter)  0.327586    0.655172  1.055556\n"
     ]
    }
   ],
   "source": [
    "transactions = [\n",
    "    ['milk', 'bread', 'butter'],\n",
    "    ['bread', 'butter', 'jam'],\n",
    "    ['milk', 'bread'],\n",
    "    ['milk', 'bread', 'butter', 'jam'],\n",
    "    ['bread', 'butter', 'eggs'],\n",
    "    ['jam', 'bread', 'butter'],\n",
    "    ['milk', 'bread', 'butter'],\n",
    "    ['bread'],\n",
    "    ['milk', 'eggs'],\n",
    "    ['milk', 'bread', 'eggs'],\n",
    "    ['bread', 'butter', 'jam'],\n",
    "    ['butter', 'eggs'],\n",
    "    ['milk', 'butter', 'jam'],\n",
    "    ['bread', 'jam'],\n",
    "    ['milk', 'bread', 'butter', 'eggs'],\n",
    "    ['butter'],\n",
    "    ['bread', 'milk', 'jam'],\n",
    "    ['eggs', 'jam'],\n",
    "    ['milk', 'butter'],\n",
    "    ['bread', 'butter', 'eggs', 'jam'],\n",
    "    ['milk', 'bread', 'jam'],\n",
    "    ['milk', 'eggs', 'butter'],\n",
    "    ['bread', 'butter', 'jam'],\n",
    "    ['butter', 'jam'],\n",
    "    ['milk', 'bread', 'butter', 'jam', 'eggs'],\n",
    "    ['milk', 'cereal'],\n",
    "    ['cereal', 'bread'],\n",
    "    ['milk', 'bread', 'cereal', 'butter'],\n",
    "    ['bread', 'butter', 'cereal', 'jam'],\n",
    "    ['eggs', 'cereal'],\n",
    "    ['milk', 'butter', 'cereal'],\n",
    "    ['bread', 'jam', 'cereal'],\n",
    "    ['milk', 'bread', 'butter', 'eggs', 'cereal'],\n",
    "    ['butter', 'cereal'],\n",
    "    ['milk', 'bread', 'eggs'],\n",
    "    ['bread', 'butter', 'jam', 'cheese'],\n",
    "    ['milk', 'cheese', 'bread'],\n",
    "    ['cheese', 'butter'],\n",
    "    ['milk', 'bread', 'butter', 'cheese'],\n",
    "    ['bread', 'cheese', 'jam'],\n",
    "    ['eggs', 'cheese'],\n",
    "    ['milk', 'butter', 'jam', 'cheese'],\n",
    "    ['bread', 'eggs', 'cheese'],\n",
    "    ['milk', 'bread', 'butter', 'eggs', 'cheese'],\n",
    "    ['butter', 'jam', 'cheese'],\n",
    "    ['milk', 'bread', 'cereal', 'cheese'],\n",
    "    ['bread', 'butter', 'jam', 'eggs', 'cheese'],\n",
    "    ['milk', 'cereal', 'cheese'],\n",
    "    ['bread', 'butter', 'eggs', 'jam', 'cheese'],\n",
    "    ['milk', 'bread', 'butter', 'eggs', 'jam', 'cheese'],\n",
    "    ['cereal', 'eggs'],\n",
    "    ['milk', 'bread', 'butter', 'jam', 'cereal'],\n",
    "    ['bread', 'jam', 'eggs'],\n",
    "    ['milk', 'butter', 'jam', 'cereal'],\n",
    "    ['bread', 'eggs', 'jam'],\n",
    "    ['milk', 'bread', 'butter', 'eggs', 'jam', 'cereal'],\n",
    "    ['butter', 'jam', 'eggs'],\n",
    "    ['milk', 'bread', 'cereal', 'butter', 'eggs']\n",
    "]"
   ]
  },
  {
   "cell_type": "code",
   "execution_count": 11,
   "id": "c0092ea3",
   "metadata": {},
   "outputs": [],
   "source": [
    "te = TransactionEncoder()\n",
    "te_data = te.fit_transform(transactions)\n",
    "df = pd.DataFrame(te_data, columns=te.columns_)"
   ]
  },
  {
   "cell_type": "code",
   "execution_count": 12,
   "id": "de66ef4c",
   "metadata": {},
   "outputs": [
    {
     "name": "stdout",
     "output_type": "stream",
     "text": [
      "Frequent Itemsets:\n",
      "     support         itemsets\n",
      "0  0.655172          (bread)\n",
      "1  0.620690         (butter)\n",
      "2  0.413793           (eggs)\n",
      "3  0.482759            (jam)\n",
      "4  0.500000           (milk)\n",
      "5  0.396552  (bread, butter)\n",
      "6  0.362069     (bread, jam)\n",
      "7  0.344828    (bread, milk)\n",
      "8  0.344828    (jam, butter)\n",
      "9  0.327586   (milk, butter)\n"
     ]
    }
   ],
   "source": [
    "frequent_itemsets = apriori(df, min_support=0.3, use_colnames=True)\n",
    "print(\"Frequent Itemsets:\\n\", frequent_itemsets)"
   ]
  },
  {
   "cell_type": "code",
   "execution_count": 13,
   "id": "022d1de2",
   "metadata": {},
   "outputs": [],
   "source": [
    "rules = association_rules(frequent_itemsets, metric=\"confidence\", min_threshold=0.6)"
   ]
  },
  {
   "cell_type": "code",
   "execution_count": 14,
   "id": "31469da7",
   "metadata": {},
   "outputs": [],
   "source": [
    "filtered_rules = rules[(rules['confidence'] >= 0.7) & (rules['lift'] > 1.1)]"
   ]
  },
  {
   "cell_type": "code",
   "execution_count": 15,
   "id": "a3bfba57",
   "metadata": {},
   "outputs": [],
   "source": [
    "filtered_rules = filtered_rules.sort_values(by='lift', ascending=False)"
   ]
  },
  {
   "cell_type": "code",
   "execution_count": 16,
   "id": "c2c09d85",
   "metadata": {},
   "outputs": [
    {
     "name": "stdout",
     "output_type": "stream",
     "text": [
      "\n",
      "Strong Association Rules:\n",
      "  antecedents consequents   support  confidence      lift\n",
      "4       (jam)    (butter)  0.344828    0.714286  1.150794\n",
      "2       (jam)     (bread)  0.362069    0.750000  1.144737\n",
      "\n",
      "All association rules (before filtering):\n",
      "  antecedents consequents   support  confidence      lift\n",
      "0     (bread)    (butter)  0.396552    0.605263  0.975146\n",
      "1    (butter)     (bread)  0.396552    0.638889  0.975146\n",
      "2       (jam)     (bread)  0.362069    0.750000  1.144737\n",
      "3      (milk)     (bread)  0.344828    0.689655  1.052632\n",
      "4       (jam)    (butter)  0.344828    0.714286  1.150794\n",
      "5      (milk)    (butter)  0.327586    0.655172  1.055556\n"
     ]
    }
   ],
   "source": [
    "print(\"\\nStrong Association Rules:\")\n",
    "print(filtered_rules[[\"antecedents\", \"consequents\", \"support\", \"confidence\", \"lift\"]])\n",
    "\n",
    "print(\"\\nAll association rules (before filtering):\")\n",
    "print(rules[[\"antecedents\", \"consequents\", \"support\", \"confidence\", \"lift\"]])"
   ]
  },
  {
   "cell_type": "code",
   "execution_count": null,
   "id": "0de8a37e",
   "metadata": {},
   "outputs": [],
   "source": []
  }
 ],
 "metadata": {
  "kernelspec": {
   "display_name": "Python 3",
   "language": "python",
   "name": "python3"
  },
  "language_info": {
   "codemirror_mode": {
    "name": "ipython",
    "version": 3
   },
   "file_extension": ".py",
   "mimetype": "text/x-python",
   "name": "python",
   "nbconvert_exporter": "python",
   "pygments_lexer": "ipython3",
   "version": "3.12.6"
  }
 },
 "nbformat": 4,
 "nbformat_minor": 5
}
